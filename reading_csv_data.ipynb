{
 "cells": [
  {
   "cell_type": "markdown",
   "metadata": {},
   "source": [
    "# Reading CSV data\n",
    "Tabular data is often saved in some sort of CSV like format. Sometimes the delimiter might be a tab or some other character instead of a comma. By convention, CSV files have a `.csv` extension (tab delimited files will often have a `.tsv` extension). CSV is such a common format that Python has a built in `csv` library. In addition, other Python libraries designed for data analysis (such as Pandas or Agate) often have their own functions for working with CSV files. In some cases, these functions are simply \"wrappers\" around Python's built in CSV functions.\n",
    "\n",
    "This notebook is based on the **CSV Data** section Chapter 3 of \"Data Wrangling with Python\" (DWwP)."
   ]
  },
  {
   "cell_type": "markdown",
   "metadata": {},
   "source": [
    "## Creating a Home for Your Code\n",
    "Let's go get the data and code that comes with the DWwP book. It lives at https://github.com/jackiekazil/data-wrangling. \n",
    "\n",
    "Use the Download Zip button to, well, download a zip file of the repository (\"repo\" for short). Move it from the Downloads folder to some convenient spot such as the Documents folder. Extract it. Let's explore it. Now, whenever we use one of the data files to work along with the book examples, we'll copy the necessary file(s) from this master folder and put the copy into the same directory we are writing our code. By doing this we won't have to worry about file paths when we try to open the file in Python. Alternatively, you could make it your policy to always put the data files into a folder named `data` which lives in the folder housing your code. Then, your file path will always be `data/<filename>`. It's up to you. I urge you to be consistent.\n",
    "\n",
    "Go into the `/data-wrangling-master` folder, then the `/data` subfolder, and copy `data-text.csv` and `data-json.txt` into your working folder (the one with this notebook in it).\n",
    "\n",
    "> Let's check out some of the other repos in Jackie Kazil's Github account. You'll eventually need a Github\n",
    "> account of your own. They're free. Create one at some point in the next few weeks.\n",
    "> Search for \"hillmaker\" and let's check out my Github account and one of my open source projects."
   ]
  },
  {
   "cell_type": "markdown",
   "metadata": {},
   "source": [
    "## CSV Data\n",
    "Let's start by opening `data-text.csv` in a text editor. Use Geany. Ok, close the file.\n",
    "\n",
    "### How to Import CSV Data\n",
    "The example shown on p46 of the text is specific to Python 2. Here's the corrected version for Python 3."
   ]
  },
  {
   "cell_type": "code",
   "execution_count": null,
   "metadata": {},
   "outputs": [],
   "source": [
    "import csv\n",
    "\n",
    "csvfile = open('data/data-text.csv','r')\n",
    "reader = csv.reader(csvfile)\n",
    "\n",
    "for row in reader:\n",
    "    print(row)\n"
   ]
  },
  {
   "cell_type": "code",
   "execution_count": null,
   "metadata": {},
   "outputs": [],
   "source": [
    "# Which row is this?\n",
    "print(row)"
   ]
  },
  {
   "cell_type": "code",
   "execution_count": null,
   "metadata": {},
   "outputs": [],
   "source": [
    "whos"
   ]
  },
  {
   "cell_type": "markdown",
   "metadata": {},
   "source": [
    "Let's look at each line and figure out what's going on. It will help us to establish a vocabulary for talking about programming constructs and concepts. It will also force you to think carefully about code statements."
   ]
  },
  {
   "cell_type": "code",
   "execution_count": null,
   "metadata": {
    "collapsed": true,
    "jupyter": {
     "outputs_hidden": true
    }
   },
   "outputs": [],
   "source": [
    "import csv"
   ]
  },
  {
   "cell_type": "markdown",
   "metadata": {},
   "source": [
    "What does this statement do? Why do we need it?"
   ]
  },
  {
   "cell_type": "code",
   "execution_count": null,
   "metadata": {
    "collapsed": true,
    "jupyter": {
     "outputs_hidden": true
    }
   },
   "outputs": [],
   "source": [
    "csvfile = open('data/data-text.csv', 'r')"
   ]
  },
  {
   "cell_type": "markdown",
   "metadata": {},
   "source": [
    "What is `open`?\n",
    "\n",
    "What are the arguments passed into `open` and what are they specifying?\n",
    "\n",
    "What is `csvfile` and what is its data type?\n",
    "\n",
    "What type of thing is returned by `open`?"
   ]
  },
  {
   "cell_type": "code",
   "execution_count": null,
   "metadata": {},
   "outputs": [],
   "source": [
    "help(open)"
   ]
  },
  {
   "cell_type": "code",
   "execution_count": null,
   "metadata": {
    "collapsed": true,
    "jupyter": {
     "outputs_hidden": true
    }
   },
   "outputs": [],
   "source": [
    "reader = csv.reader(csvfile)"
   ]
  },
  {
   "cell_type": "markdown",
   "metadata": {},
   "source": [
    "What is the difference between `reader` and `csv.reader`?\n",
    "\n",
    "What type of data are we passing in to `csv.reader`\n",
    "\n",
    "What type of data does `csv.reader` return?\n",
    "\n",
    "Would the following line of code be ok or would it cause an error immediately when it's executed?\n",
    "\n",
    "    peanut_butter = csv.reader(csvfile)"
   ]
  },
  {
   "cell_type": "code",
   "execution_count": null,
   "metadata": {},
   "outputs": [],
   "source": [
    "whos"
   ]
  },
  {
   "cell_type": "code",
   "execution_count": null,
   "metadata": {
    "collapsed": true,
    "jupyter": {
     "outputs_hidden": true
    }
   },
   "outputs": [],
   "source": [
    "for row in reader:\n",
    "    print(row)"
   ]
  },
  {
   "cell_type": "markdown",
   "metadata": {},
   "source": [
    "Remember, the general form of a `for` loop block is:\n",
    "\n",
    "    for variable in collection:\n",
    "        do one or more things with (or without) variable"
   ]
  },
  {
   "cell_type": "code",
   "execution_count": null,
   "metadata": {
    "collapsed": true,
    "jupyter": {
     "outputs_hidden": true
    }
   },
   "outputs": [],
   "source": [
    "for variable in collection:\n",
    "    do something with variable"
   ]
  },
  {
   "cell_type": "markdown",
   "metadata": {},
   "source": [
    "So, in this case:\n",
    "\n",
    "* variable: `row`\n",
    "* collection: `reader`\n",
    "* something: `print(row)`\n",
    "\n",
    "What kind of data is `row`?\n",
    "\n",
    "If `reader` is a collection, what's it a collection of?"
   ]
  },
  {
   "cell_type": "code",
   "execution_count": null,
   "metadata": {},
   "outputs": [],
   "source": [
    "type(row)"
   ]
  },
  {
   "cell_type": "code",
   "execution_count": null,
   "metadata": {},
   "outputs": [],
   "source": [
    "whos"
   ]
  },
  {
   "cell_type": "markdown",
   "metadata": {},
   "source": [
    "### Sidebar: A similar example and a challenge"
   ]
  },
  {
   "cell_type": "code",
   "execution_count": null,
   "metadata": {},
   "outputs": [],
   "source": [
    "birds = ['American Redstart', 'Kirtlands Warbler', 'Yellow-throated Vireo', 'Pileated Woodpecker']\n",
    "for bird in birds:\n",
    "    print(bird)"
   ]
  },
  {
   "cell_type": "markdown",
   "metadata": {},
   "source": [
    "What's the value of `bird` and what is its data type?\n",
    "\n",
    "What Python statement would return the number of items in `birds`?\n",
    "\n",
    "**CHALLENGE**: Modify the above program so that it only prints out the bird with the longest name. You'll have to \n",
    "think carefully about how you are going to accomplish this. Nothing fancy needed - some variables, a function or two, perhaps some conditional logic, ... push yourself to figure this out."
   ]
  },
  {
   "cell_type": "markdown",
   "metadata": {},
   "source": [
    "### Back to our reader example\n",
    "Now let's copy our working CSV reader program and paste it into a new text file. Let's save the file as *import_csv_data.py*. Then we'll do two things with it:\n",
    "\n",
    "* Run it from the shell using the Python program\n",
    "* Open it with PyCharm and run it from there"
   ]
  },
  {
   "cell_type": "markdown",
   "metadata": {},
   "source": [
    "### Read data into dictionaries instead of lists\n",
    "As we saw above, the `csv.reader` returns each line of the file as a list. Sometimes we want that but sometimes we might want each line to go into a different type of data structure. Instead of lists, let's read each line into a dictionary. Thankfully, the `csv` library has a `DictReader` function that does exactly that."
   ]
  },
  {
   "cell_type": "code",
   "execution_count": null,
   "metadata": {},
   "outputs": [],
   "source": [
    "import csv\n",
    "\n",
    "csvfile = open('data/data-text.csv','r')\n",
    "reader = csv.DictReader(csvfile)\n",
    "\n",
    "for row in reader:\n",
    "    print(row)"
   ]
  },
  {
   "cell_type": "code",
   "execution_count": null,
   "metadata": {},
   "outputs": [],
   "source": [
    "type(row)"
   ]
  },
  {
   "cell_type": "code",
   "execution_count": null,
   "metadata": {},
   "outputs": [],
   "source": [
    "for key, value in row.items():\n",
    "    print(key, \" = \", value)"
   ]
  },
  {
   "cell_type": "markdown",
   "metadata": {},
   "source": [
    "Compare the output of this program with the original version. Obviously, one prints lists and this one prints dictionaries. However, what is one advantage of this dictionary based version?"
   ]
  },
  {
   "cell_type": "markdown",
   "metadata": {},
   "source": [
    "## The bottom line\n",
    "We've learned how to use Python's built in `csv` library to read CSV files into common data structures such as lists and dictionaries. This is a common precursor to doing data cleanup and other data preparation tasks before moving on to data analysis. Again, we'll see that most Python data analysis packages have their own CSV reader functions. We also reviewed loops and encountered a nice little programming challenge that uses concepts that we've already learned. We also learned the basics of working with PyCharm, a Python IDE. \n",
    "\n",
    "Programming takes practice. Problem solving takes practice. Both Jupyter notebooks and PyCharm provide great environments for practicing your Python programming."
   ]
  },
  {
   "cell_type": "code",
   "execution_count": null,
   "metadata": {
    "collapsed": true,
    "jupyter": {
     "outputs_hidden": true
    }
   },
   "outputs": [],
   "source": []
  }
 ],
 "metadata": {
  "anaconda-cloud": {},
  "kernelspec": {
   "display_name": "Python 3",
   "language": "python",
   "name": "python3"
  },
  "language_info": {
   "codemirror_mode": {
    "name": "ipython",
    "version": 3
   },
   "file_extension": ".py",
   "mimetype": "text/x-python",
   "name": "python",
   "nbconvert_exporter": "python",
   "pygments_lexer": "ipython3",
   "version": "3.8.5"
  }
 },
 "nbformat": 4,
 "nbformat_minor": 4
}
