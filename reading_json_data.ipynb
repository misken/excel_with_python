{
 "cells": [
  {
   "cell_type": "markdown",
   "metadata": {},
   "source": [
    "# Reading JSON data\n",
    "Not all data is tabular. For example, consider this index of files available at one of the SEC web pages: https://www.sec.gov/Archives/edgar/full-index/2019/QTR1/index.json\n",
    "\n",
    "This notebook is based on the **JSON Data** section Chapter 3 of \"Data Wrangling with Python\" (DWwP).\n",
    "\n",
    "JSON is a widely used, lightweight, human and machine readable, data interchange format. You can find the JSON spec at http://www.json.org/. Most programming languages have tools for reading, parsing and writing JSON files. We'll see that JSON data is closely related to Python dictionaries. In fact, here's a little bit of the *data-text.json* file:\n",
    "\n",
    "[\n",
    "  {\n",
    "    \"Indicator\":\"Life expectancy at birth (years)\",\n",
    "    \"PUBLISH STATES\":\"Published\",\n",
    "    \"Year\":1990,\n",
    "    \"WHO region\":\"Europe\",\n",
    "    \"World Bank income group\":\"High-income\",\n",
    "    \"Country\":\"Andorra\",\n",
    "    \"Sex\":\"Both sexes\",\n",
    "    \"Display Value\":77,\n",
    "    \"Numeric\":77.00000,\n",
    "    \"Low\":\"\",\n",
    "    \"High\":\"\",\n",
    "    \"Comments\":\"\"\n",
    "  },\n",
    "  {\n",
    "    \"Indicator\":\"Life expectancy at birth (years)\",\n",
    "    \"PUBLISH STATES\":\"Published\",\n",
    "    \"Year\":2000,\n",
    "    \"WHO region\":\"Europe\",\n",
    "    \"World Bank income group\":\"High-income\",\n",
    "    \"Country\":\"Andorra\",\n",
    "    \"Sex\":\"Both sexes\",\n",
    "    \"Display Value\":80,\n",
    "    \"Numeric\":80.00000,\n",
    "    \"Low\":\"\",\n",
    "    \"High\":\"\",\n",
    "    \"Comments\":\"\"\n",
    "  },\n",
    "  \n",
    "... a bunch more \n",
    "\n",
    "  {\n",
    "    \"Indicator\":\"Healthy life expectancy (HALE) at birth (years)\",\n",
    "    \"PUBLISH STATES\":\"Published\",\n",
    "    \"Year\":2012,\n",
    "    \"WHO region\":\"Africa\",\n",
    "    \"World Bank income group\":\"Low-income\",\n",
    "    \"Country\":\"Zimbabwe\",\n",
    "    \"Sex\":\"Female\",\n",
    "    \"Display Value\":51,\n",
    "    \"Numeric\":51.00000,\n",
    "    \"Low\":\"\",\n",
    "    \"High\":\"\",\n",
    "    \"Comments\":\"\"\n",
    "  }\n",
    "]\n",
    "\n",
    "In terms of Python data structures, how would you describe the data above?"
   ]
  },
  {
   "cell_type": "markdown",
   "metadata": {},
   "source": [
    "### How to Import JSON Data\n",
    "Here's the code for importing the JSON data. It's similar to the CSV example, but with some important differences. Identifying these differences will help you as you learn to program in Python"
   ]
  },
  {
   "cell_type": "code",
   "execution_count": null,
   "metadata": {},
   "outputs": [],
   "source": [
    "import json\n",
    "\n",
    "json_data = open('data/data-text.json').read()\n",
    "\n",
    "data = json.loads(json_data)\n",
    "print(type(data))\n",
    "\n",
    "for item in data:\n",
    "    print(item)\n",
    "\n",
    "print(type(item))"
   ]
  },
  {
   "cell_type": "markdown",
   "metadata": {},
   "source": [
    "Clearly the first line:\n",
    "\n",
    "    import json\n",
    "    \n",
    "imports the `json` library (instead of the `csv` library).\n",
    "\n",
    "However, it's the next two lines that are really quite different than the `csv` example. Let's\n",
    "run the Jupyter notebook `whos` command so that we can see some detailed data type information\n",
    "for the variables in this code. Then we should be able to figure out what's going on."
   ]
  },
  {
   "cell_type": "code",
   "execution_count": null,
   "metadata": {},
   "outputs": [],
   "source": [
    "whos"
   ]
  },
  {
   "cell_type": "markdown",
   "metadata": {},
   "source": [
    "From the last example, we know that the Python `open()` function returns a file object. So, seems likely that `read()` is a method of a file object that, obviously, reads the file. What do you think this method returns? Just look at the output of the `whos` command above. Let's put \"python open file read\" into Google and see if we can confirm this. A few relevant links will be:\n",
    "\n",
    "https://docs.python.org/3/tutorial/inputoutput.html\n",
    "\n",
    "http://www.tutorialspoint.com/python/python_files_io.htm\n",
    "\n",
    "http://learnpythonthehardway.org/book/ex15.html"
   ]
  },
  {
   "cell_type": "markdown",
   "metadata": {},
   "source": [
    "So, to summarize:\n",
    "\n",
    "* CSV example  --> used `open` to return a file object for the file we want to read\n",
    "* JSON example --> used `open().read()` to return a string containing the contents of the file\n",
    "\n",
    "Why the difference? Well, it simply boils down to doing what is needed to use other methods of the `csv` or `json` libraries to get the job done.\n",
    "\n",
    "* The `csv.reader()` function requires a file object as its input\n",
    "* the `json.loads()` function requires a string as its input\n",
    "\n",
    "Finally, we have the loop."
   ]
  },
  {
   "cell_type": "code",
   "execution_count": null,
   "metadata": {},
   "outputs": [],
   "source": [
    "for item in data:\n",
    "    print(item)"
   ]
  },
  {
   "cell_type": "markdown",
   "metadata": {},
   "source": [
    "We are just doing this to look at the data and to get some loop practice.\n",
    "\n",
    "What kind of collection is `data`?\n",
    "\n",
    "As you traverse the loop, what does the loop variable `item` store and what is its data type?"
   ]
  },
  {
   "cell_type": "markdown",
   "metadata": {},
   "source": [
    "## The bottom line and a look ahead\n",
    "We've learned how to use Python's built in `json` library to read JSON files into a list of dictionaries. This is a common precursor to doing data cleanup and other data preparation tasks before moving on to data analysis. As you start working with more complex JSON files, you'll come to appreciate the flexibility provided by Python dictionaries. For example, the *value* in a *key-value* pair in a dictionary can itself be another dictionary! This makes it easy to store and manipulate hierarchical data. An example of this occurs right near the top of the JSON file representing congressional votes (https://www.govtrack.us/data/congress/113/votes/2013/h101/data.json).\n",
    "\n",
    "    {\n",
    "      \"bill\": {\n",
    "        \"congress\": 113, \n",
    "        \"number\": 1120, \n",
    "        \"type\": \"hr\"\n",
    "      }, \n",
    "      \"category\": \"passage\", \n",
    "      \"chamber\": \"h\", \n",
    "      \"congress\": 113,\n",
    "      \n",
    "CSV files simply aren't up to the task of storing such data."
   ]
  },
  {
   "cell_type": "code",
   "execution_count": null,
   "metadata": {
    "collapsed": true
   },
   "outputs": [],
   "source": []
  }
 ],
 "metadata": {
  "anaconda-cloud": {},
  "kernelspec": {
   "display_name": "Python 3",
   "language": "python",
   "name": "python3"
  },
  "language_info": {
   "codemirror_mode": {
    "name": "ipython",
    "version": 3
   },
   "file_extension": ".py",
   "mimetype": "text/x-python",
   "name": "python",
   "nbconvert_exporter": "python",
   "pygments_lexer": "ipython3",
   "version": "3.7.2"
  }
 },
 "nbformat": 4,
 "nbformat_minor": 2
}
